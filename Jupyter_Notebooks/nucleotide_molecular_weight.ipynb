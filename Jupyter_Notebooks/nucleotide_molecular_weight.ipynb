{
  "nbformat": 4,
  "nbformat_minor": 0,
  "metadata": {
    "colab": {
      "provenance": []
    },
    "kernelspec": {
      "name": "python3",
      "display_name": "Python 3"
    },
    "language_info": {
      "name": "python"
    }
  },
  "cells": [
    {
      "cell_type": "markdown",
      "source": [
        "# Nucleotide Molecular Weight Calculator\n",
        "Reference:\n",
        "https://www.thermofisher.com/us/en/home/references/ambion-tech-support/rna-tools-and-calculators/dna-and-rna-molecular-weights-and-conversions.html"
      ],
      "metadata": {
        "id": "QPKFfbfuaxqi"
      }
    },
    {
      "cell_type": "markdown",
      "source": [
        "Nucleotide Sequence"
      ],
      "metadata": {
        "id": "y6w0XGEha5mP"
      }
    },
    {
      "cell_type": "code",
      "execution_count": null,
      "metadata": {
        "id": "q-_ytzAjatUR"
      },
      "outputs": [],
      "source": [
        "#@title\n",
        "sequence = '''\n",
        "        1 atgcagatct tcgtgaaaac ccttaccggc aagaccatca cccttgaggt ggagcccagt\n",
        "       61 gacaccatcg aaaatgtgaa ggccaagatc caggataagg aaggcattcc ccccgaccag\n",
        "      121 cagaggctca tctttgcagg caagcagctg gaagatggcc gtactctttc tgactacaac\n",
        "      181 atccagaagg agtcgaccct gcacctggtc ctgcgtctga gaggtggtat gcagatcttc\n",
        "      241 gtgaagaccc tgaccggcaa gaccatcacc ctggaagtgg agcccagtga caccatcgaa\n",
        "      301 aatgtgaagg ccaagatcca ggataaagaa ggcatccctc ccgaccagca gaggctcatc\n",
        "      361 tttgcaggca agcagctgga agatggccgc actctttctg actacaacat ccagaaggag\n",
        "      421 tcgaccctgc acctggtcct gcgtctgaga ggtggtatgc agatcttcgt gaagaccctg\n",
        "      481 accggcaaga ccatcactct ggaggtggag cccagtgaca ccatcgaaaa tgtgaaggcc\n",
        "      541 aagatccaag ataaagaagg catccccccc gaccagcaga ggctcatctt tgcaggcaag\n",
        "      601 cagctggaag atggccgcac tctttctgac tacaacatcc agaaagagtc gaccctgcac\n",
        "      661 ctggtcctgc gcctgagggg tggctgttaa\n",
        "'''"
      ]
    },
    {
      "cell_type": "markdown",
      "source": [
        "Sequence Type Choose From: ssRNA, ssDNA, dsDNA"
      ],
      "metadata": {
        "id": "mF-tqo5PbBPb"
      }
    },
    {
      "cell_type": "code",
      "source": [
        "sequence_type = 'ssDNA'"
      ],
      "metadata": {
        "id": "943urQo6bA9m"
      },
      "execution_count": null,
      "outputs": []
    },
    {
      "cell_type": "markdown",
      "source": [
        "Molecular Weight Dictionary"
      ],
      "metadata": {
        "id": "j3aH_BGibWrs"
      }
    },
    {
      "cell_type": "code",
      "source": [
        "#@title\n",
        "ssRNA_MW_dict = {'a': 329.2, 'u': 306.2, 'c': 305.2, 'g': 345.2}\n",
        "ssRNA_MW_extra = 159  # 5' triphosphate\n",
        "\n",
        "ssDNA_MW_dict = {'a': 313.2, 't': 304.2, 'c': 289.2, 'g': 329.2}\n",
        "ssDNA_MW_extra = 79   # 5' monophosphate"
      ],
      "metadata": {
        "id": "CWpEs2kObA6D",
        "cellView": "form"
      },
      "execution_count": null,
      "outputs": []
    },
    {
      "cell_type": "markdown",
      "source": [
        "Calculation"
      ],
      "metadata": {
        "id": "ogY9e7rYbjeO"
      }
    },
    {
      "cell_type": "code",
      "source": [
        "#@title\n",
        "import re\n",
        "clean_sequence = ''.join(re.findall('[a-z]+', sequence.lower()))\n",
        "\n",
        "exact_weight = 0\n",
        "if sequence_type != 'dsDNA':\n",
        "  if sequence_type == 'ssRNA':\n",
        "    MW_dict, MW_extra = ssRNA_MW_dict, ssRNA_MW_extra\n",
        "  elif sequence_type == 'ssDNA':\n",
        "    MW_dict, MW_extra = ssDNA_MW_dict, ssDNA_MW_extra\n",
        "\n",
        "  for nt in clean_sequence:\n",
        "    exact_weight += MW_dict[nt]\n",
        "  exact_weight += MW_extra\n",
        "  print('Exact weight: ' + (str(exact_weight)) + ' Da')\n",
        "\n",
        "if sequence_type == 'ssRNA':\n",
        "  approx_weight = len(clean_sequence) * 320.5 + 159\n",
        "elif sequence_type == 'ssDNA':\n",
        "  approx_weight = len(clean_sequence) * 303.7 + 79\n",
        "elif sequence_type == 'dsDNA':\n",
        "  approx_weight = len(clean_sequence) * 607.4 + 157.9\n",
        "  \n",
        "print('Approximate weight: ' + (str(approx_weight)) + ' Da')"
      ],
      "metadata": {
        "id": "sh1piIUpbvT9",
        "cellView": "form"
      },
      "execution_count": null,
      "outputs": []
    }
  ]
}