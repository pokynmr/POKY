{
  "cells": [
    {
      "cell_type": "markdown",
      "metadata": {
        "id": "QPKFfbfuaxqi"
      },
      "source": [
        "# Nucleotide Molecular Weight Calculator\n",
        "Reference:\n",
        "https://www.thermofisher.com/us/en/home/references/ambion-tech-support/rna-tools-and-calculators/dna-and-rna-molecular-weights-and-conversions.html"
      ]
    },
    {
      "cell_type": "markdown",
      "metadata": {
        "id": "y6w0XGEha5mP"
      },
      "source": [
        "Nucleotide Sequence"
      ]
    },
    {
      "cell_type": "code",
      "execution_count": null,
      "metadata": {
        "id": "q-_ytzAjatUR"
      },
      "outputs": [],
      "source": [
        "#@title\n",
        "sequence = '''\n",
        "        1 atgcagatct tcgtgaaaac ccttaccggc aagaccatca cccttgaggt ggagcccagt\n",
        "       61 gacaccatcg aaaatgtgaa ggccaagatc caggataagg aaggcattcc ccccgaccag\n",
        "      121 cagaggctca tctttgcagg caagcagctg gaagatggcc gtactctttc tgactacaac\n",
        "      181 atccagaagg agtcgaccct gcacctggtc ctgcgtctga gaggtggtat gcagatcttc\n",
        "      241 gtgaagaccc tgaccggcaa gaccatcacc ctggaagtgg agcccagtga caccatcgaa\n",
        "      301 aatgtgaagg ccaagatcca ggataaagaa ggcatccctc ccgaccagca gaggctcatc\n",
        "      361 tttgcaggca agcagctgga agatggccgc actctttctg actacaacat ccagaaggag\n",
        "      421 tcgaccctgc acctggtcct gcgtctgaga ggtggtatgc agatcttcgt gaagaccctg\n",
        "      481 accggcaaga ccatcactct ggaggtggag cccagtgaca ccatcgaaaa tgtgaaggcc\n",
        "      541 aagatccaag ataaagaagg catccccccc gaccagcaga ggctcatctt tgcaggcaag\n",
        "      601 cagctggaag atggccgcac tctttctgac tacaacatcc agaaagagtc gaccctgcac\n",
        "      661 ctggtcctgc gcctgagggg tggctgttaa\n",
        "'''"
      ]
    },
    {
      "cell_type": "markdown",
      "metadata": {
        "id": "mF-tqo5PbBPb"
      },
      "source": [
        "Sequence Type Choose From: ssRNA, ssDNA, dsDNA"
      ]
    },
    {
      "cell_type": "code",
      "execution_count": null,
      "metadata": {
        "id": "943urQo6bA9m"
      },
      "outputs": [],
      "source": [
        "sequence_type = 'ssDNA'"
      ]
    },
    {
      "cell_type": "markdown",
      "metadata": {
        "id": "j3aH_BGibWrs"
      },
      "source": [
        "Molecular Weight Dictionary"
      ]
    },
    {
      "cell_type": "code",
      "execution_count": null,
      "metadata": {
        "cellView": "form",
        "id": "CWpEs2kObA6D"
      },
      "outputs": [],
      "source": [
        "#@title\n",
        "ssRNA_MW_dict = {'a': 329.2, 'u': 306.2, 'c': 305.2, 'g': 345.2}\n",
        "ssRNA_MW_extra = 159  # 5' triphosphate\n",
        "\n",
        "ssDNA_MW_dict = {'a': 313.2, 't': 304.2, 'c': 289.2, 'g': 329.2}\n",
        "ssDNA_MW_extra = 79   # 5' monophosphate"
      ]
    },
    {
      "cell_type": "markdown",
      "metadata": {
        "id": "ogY9e7rYbjeO"
      },
      "source": [
        "Calculation"
      ]
    },
    {
      "cell_type": "code",
      "execution_count": null,
      "metadata": {
        "cellView": "form",
        "id": "sh1piIUpbvT9"
      },
      "outputs": [],
      "source": [
        "#@title\n",
        "import re\n",
        "clean_sequence = ''.join(re.findall('[a-z]+', sequence.lower()))\n",
        "\n",
        "exact_weight = 0\n",
        "if sequence_type != 'dsDNA':\n",
        "  if sequence_type == 'ssRNA':\n",
        "    MW_dict, MW_extra = ssRNA_MW_dict, ssRNA_MW_extra\n",
        "  elif sequence_type == 'ssDNA':\n",
        "    MW_dict, MW_extra = ssDNA_MW_dict, ssDNA_MW_extra\n",
        "\n",
        "  for nt in clean_sequence:\n",
        "    exact_weight += MW_dict[nt]\n",
        "  exact_weight += MW_extra\n",
        "  print('Exact weight: ' + (str(exact_weight)) + ' Da')\n",
        "  print('Exact weight: ' + (str(exact_weight/1000)) + ' kDa')\n",
        "\n",
        "if sequence_type == 'ssRNA':\n",
        "  approx_weight = len(clean_sequence) * 320.5 + 159\n",
        "elif sequence_type == 'ssDNA':\n",
        "  approx_weight = len(clean_sequence) * 303.7 + 79\n",
        "elif sequence_type == 'dsDNA':\n",
        "  approx_weight = len(clean_sequence) * 607.4 + 157.9\n",
        "  \n",
        "print('Approximate weight: ' + (str(approx_weight)) + ' Da')\n",
        "print('Approximate weight: ' + (str(approx_weight/1000)) + ' kDa')"
      ]
    },
    {
      "cell_type": "markdown",
      "metadata": {},
      "source": [
        "Molarity Calculation (optional)"
      ]
    },
    {
      "cell_type": "code",
      "execution_count": null,
      "metadata": {},
      "outputs": [],
      "source": [
        "total_volume = 1\n",
        "my_weight = 1\n",
        "\n",
        "try:\n",
        "  moles = my_weight / exact_weight\n",
        "except:\n",
        "  moles = my_weight / approx_weight\n",
        "\n",
        "molarity = moles / total_volume\n",
        "\n",
        "print(f'C is {molarity} M.')\n",
        "print(f'C is {molarity*1000} mM.')"
      ]
    },
    {
      "cell_type": "markdown",
      "metadata": {},
      "source": [
        "Dilution Calculation (optional)"
      ]
    },
    {
      "cell_type": "code",
      "execution_count": null,
      "metadata": {},
      "outputs": [],
      "source": [
        "target_molarity = 1\n",
        "my_weight = 1\n",
        "\n",
        "try:\n",
        "  moles = my_weight / exact_weight\n",
        "except:\n",
        "  moles = my_weight / approx_weight\n",
        "\n",
        "total_volume = molarity / moles\n",
        "\n",
        "print(f'Dilute volume is {total_volume} L.')\n",
        "print(f'Dilute volume is {total_volume*1000} ml.')"
      ]
    }
  ],
  "metadata": {
    "colab": {
      "provenance": []
    },
    "kernelspec": {
      "display_name": "Python 3",
      "name": "python3"
    },
    "language_info": {
      "name": "python"
    }
  },
  "nbformat": 4,
  "nbformat_minor": 0
}
