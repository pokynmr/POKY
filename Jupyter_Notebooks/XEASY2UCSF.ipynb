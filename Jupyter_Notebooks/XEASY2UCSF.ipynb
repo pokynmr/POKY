{
  "nbformat": 4,
  "nbformat_minor": 0,
  "metadata": {
    "colab": {
      "provenance": []
    },
    "kernelspec": {
      "name": "python3",
      "display_name": "Python 3"
    },
    "language_info": {
      "name": "python"
    }
  },
  "cells": [
    {
      "cell_type": "markdown",
      "source": [
        "# **POKY XEASY Spectrum to UCSF Spectrum Converter**\n",
        "\n",
        "by **Woonghee Lee, Ph.D.** (woonghee.lee@ucdenver.edu; POKY Team, Department of Chemistry, University of Colorado Denver)\n",
        "\n",
        "October 16, 2025\n",
        "\n",
        "\n",
        "Reference: https://github.com/yokochi47/xyza2pipe, https://nmrglue.readthedocs.io/en/latest/examples/pipe2sparky_2d.html\n",
        "\n",
        "\n",
        "POKY download: https://poky.clas.ucdenver.edu"
      ],
      "metadata": {
        "id": "3nWG8Clo9l0D"
      }
    },
    {
      "cell_type": "code",
      "source": [
        "#@title ### **Upload .16 and .param files. It must be two matching files.**\n",
        "from google.colab import files\n",
        "!rm *.16 *.param\n",
        "uploaded = files.upload()\n",
        "uploaded_list = list(uploaded.keys())\n",
        "if len(uploaded_list) != 2:\n",
        "  print('Please uploaded matching two .16 and .param files.')\n",
        "  raise SystemError\n",
        "for u in uploaded_list:\n",
        "  if u.endswith('.16'):\n",
        "    fs = u\n",
        "  elif u.endswith('.param'):\n",
        "    fp = u"
      ],
      "metadata": {
        "cellView": "form",
        "id": "3knoWlpR9_WH"
      },
      "execution_count": null,
      "outputs": []
    },
    {
      "cell_type": "code",
      "execution_count": null,
      "metadata": {
        "cellView": "form",
        "id": "_TNTCLGG8yO6"
      },
      "outputs": [],
      "source": [
        "#@title ### **Installing XYZA2PIPE and NMRGLUE**\n",
        "!git clone --quiet https://github.com/yokochi47/xyza2pipe.git > /dev/null\n",
        "!cd xyza2pipe; make -s\n",
        "!pip install -q nmrglue"
      ]
    },
    {
      "cell_type": "code",
      "source": [
        "#@title ### **Convert**\n",
        "x2p = 'xyza2pipe/xeasy2pipe'\n",
        "\n",
        "import os\n",
        "fd = open(fp, 'r')\n",
        "lines = fd.readlines()\n",
        "fd.close()\n",
        "\n",
        "fq_list = [0, 0, 0, 0]\n",
        "sw_list = [0, 0, 0, 0]\n",
        "o_list = [0, 0, 0, 0]\n",
        "nuc_list = ['', '', '', '']\n",
        "\n",
        "for line in lines:\n",
        "  if line.find('Spectrometer frequency in w') == 0:\n",
        "    dim = int(line.split()[3][1])-1\n",
        "    fq = float(line.split()[-1])\n",
        "    fq_list[dim] = float(fq)\n",
        "\n",
        "for line in lines:\n",
        "  if line.find('Spectral sweep width in w') == 0:\n",
        "    dim = int(line.split()[4][1])-1\n",
        "    sw = float(line.split()[-1])\n",
        "    sw_list[dim] = float(sw)\n",
        "\n",
        "for line in lines:\n",
        "  if line.find('Maximum chemical shift in w') == 0:\n",
        "    dim = int(line.split()[4][1])-1\n",
        "    mc = float(line.split()[-1])\n",
        "    o_list[dim] = mc - sw_list[dim]/2\n",
        "\n",
        "for line in lines:\n",
        "  if line.find('Identifier for dimension w') == 0:\n",
        "    dim = int(line.split()[3][1])-1\n",
        "    mc = line.split()[5]\n",
        "    nuc_list[dim] = mc\n",
        "\n",
        "\n",
        "prefix = fs.split('.')[0]\n",
        "\n",
        "if o_list[3] != 0:\n",
        "  c = f'--xCAR {o_list[0]} --yCAR {o_list[1]} --zCAR {o_list[2]} --aCAR {o_list[3]}'\n",
        "elif o_list[2] != 0:\n",
        "  c = f'--xCAR {o_list[0]} --yCAR {o_list[1]} --zCAR {o_list[2]}'\n",
        "else:\n",
        "  c = f'--xCAR {o_list[0]} --yCAR {o_list[1]}'\n",
        "\n",
        "cmd = f'{x2p} {c} -i {fs} > {prefix}.pipe'\n",
        "print(cmd)\n",
        "os.system(cmd)\n",
        "\n",
        "import nmrglue as ng\n",
        "dic, data = ng.pipe.read(f'{prefix}.pipe')\n",
        "udic = ng.pipe.guess_udic(dic, data)\n",
        "C = ng.convert.converter()\n",
        "ndim = udic['ndim']\n",
        "\n",
        "for i in range(ndim):\n",
        "  dic[f'FDF{i+1}LABEL'] = nuc_list[i] + '\\r'\n",
        "  udic[i]['label'] = nuc_list[i]\n",
        "  udic[i]['car'] = o_list[i] * fq_list[i]\n",
        "  if udic[i]['label'] == 'N':\n",
        "    udic[i]['label'] = '15N'\n",
        "  elif udic[i]['label'] == 'C':\n",
        "    udic[i]['label'] = '13C'\n",
        "  elif udic[i]['label'] == 'H':\n",
        "    udic[i]['label'] = '1H'\n",
        "  elif udic[i]['label'] == 'F':\n",
        "    udic[i]['label'] = '19F'\n",
        "  elif udic[i]['label'] == 'P':\n",
        "    udic[i]['label'] = '31P'\n",
        "\n",
        "print(dic)\n",
        "print(udic)\n",
        "C.from_pipe(dic, data, udic)\n",
        "\n",
        "ng.sparky.write(f'{prefix}.ucsf', *C.to_sparky(), overwrite=True)"
      ],
      "metadata": {
        "cellView": "form",
        "id": "hqjtaEWs-mSa"
      },
      "execution_count": null,
      "outputs": []
    },
    {
      "cell_type": "code",
      "source": [
        "#@title ### **Download UCSF Spectrum**\n",
        "files.download(f'{prefix}.ucsf')"
      ],
      "metadata": {
        "cellView": "form",
        "id": "AwgzX02w-xNs"
      },
      "execution_count": null,
      "outputs": []
    }
  ]
}