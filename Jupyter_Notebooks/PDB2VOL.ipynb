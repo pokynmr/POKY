{
  "nbformat": 4,
  "nbformat_minor": 0,
  "metadata": {
    "colab": {
      "provenance": []
    },
    "kernelspec": {
      "name": "python3",
      "display_name": "Python 3"
    },
    "language_info": {
      "name": "python"
    }
  },
  "cells": [
    {
      "cell_type": "markdown",
      "source": [
        "## **POKY PDB2VOL Notebook**\n",
        "by Woonghee Lee, Ph.D. ([woonghee.lee@ucdenver.edu](woonghee.lee@ucdenver.edu); POKY Team, Department of Chemistry, University of Colorado Denver)<br>\n",
        "October 14, 2024<br>\n",
        "POKY download: https://poky.clas.ucdenver.edu\n",
        "\n",
        "Simulation of electron density map using a PDB file via PDB2VOL from SITUS.\n",
        "\n",
        "Please cite: Situs: A Package for Docking Crystal Structures into Low-Resolution Maps from Electron Microscopy.\n",
        "Willy Wriggers, Ronald A. Milligan, J. Andrew McCammon, J. Struct. Biol, 125, 2-3, 185-195 (1999). https://www.sciencedirect.com/science/article/pii/S1047847798940801"
      ],
      "metadata": {
        "id": "i7hN4ZJ6-JvM"
      }
    },
    {
      "cell_type": "code",
      "source": [
        "#@title **Get PDB2VOL**\n",
        "!wget -qq https://poky.clas.ucdenver.edu/poky_releases/misc/pdb2vol\n",
        "!chmod +x pdb2vol"
      ],
      "metadata": {
        "cellView": "form",
        "id": "-o37lMAA95Yj"
      },
      "execution_count": 3,
      "outputs": []
    },
    {
      "cell_type": "code",
      "execution_count": null,
      "metadata": {
        "cellView": "form",
        "id": "7Fw1WxWn91m6"
      },
      "outputs": [],
      "source": [
        "#@title **Upload a PDB file**\n",
        "from google.colab import files\n",
        "uploaded = files.upload()\n",
        "pdb_file = list(uploaded.keys())[0]"
      ]
    },
    {
      "cell_type": "code",
      "source": [
        "#@title **PDB2VOL processing**\n",
        "map_filename = \"result.map\" # @param {\"type\":\"string\"}\n",
        "!./pdb2vol {pdb_file} {map_filename}"
      ],
      "metadata": {
        "cellView": "form",
        "id": "jN_vkg7AYFcn"
      },
      "execution_count": null,
      "outputs": []
    },
    {
      "cell_type": "code",
      "source": [
        "#@title **Download results**\n",
        "files.download(map_filename)"
      ],
      "metadata": {
        "cellView": "form",
        "id": "HTvwGypLYNcp"
      },
      "execution_count": null,
      "outputs": []
    }
  ]
}