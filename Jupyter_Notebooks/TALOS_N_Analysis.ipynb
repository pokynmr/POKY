{
  "cells": [
    {
      "cell_type": "markdown",
      "source": [
        "# **POKY TALOS-N Notebook** <br>\n",
        "by Woonghee Lee, Ph.D. (woonghee.lee@ucdenver.edu; POKY Team, Department of Chemistry, University of Colorado Denver)<br>\n",
        "January 31, 2023<br>\n",
        "*This notebook requires POKY BUILD 08/25/2022n or newer for the convenient data import.*<br>\n",
        "POKY download: https://poky.clas.ucdenver.edu\n",
        "<br><br>\n",
        "TALOS-N: Prediction of Protein Backbone and Sidechain Torsion Angles from NMR Chemical Shifts<br><br>\n",
        "Please cite: *Protein backbone and sidechain torsion angles predicted from NMR chemical shifts using artificial neural networks. <br> Yang Shen, and Ad Bax, J. Biomol. NMR, 56, 227-241(2013).*\n",
        "https://spin.niddk.nih.gov/bax/software/TALOS-N/"
      ],
      "metadata": {
        "id": "M39yVuCN2m7D"
      }
    },
    {
      "cell_type": "markdown",
      "source": [
        "## **Configure the form below and Run all from Runtime menu above.**"
      ],
      "metadata": {
        "id": "UJDlp9Ep654-"
      }
    },
    {
      "cell_type": "code",
      "execution_count": null,
      "metadata": {
        "cellView": "form",
        "id": "I2RP_Vkm0Y4d"
      },
      "outputs": [],
      "source": [
        "#@title **Configure TALOS-N Input**\n",
        "#@markdown To import chemical shifts used in POKY,\n",
        "#@markdown type **bj**.\n",
        "#@markdown Then, paste (ctrl/cmd+v) in the box below. <br>\n",
        "poky_input = \"\" #@param {type:\"string\"}\n",
        "\n",
        "import json\n",
        "poky_shift_dict =json.loads(poky_input)\n",
        "sequence = poky_shift_dict['sequence']\n",
        "groupatomshift_dict = poky_shift_dict['shifts']\n"
      ]
    },
    {
      "cell_type": "code",
      "execution_count": null,
      "metadata": {
        "cellView": "form",
        "id": "QO_VbNi8z182"
      },
      "outputs": [],
      "source": [
        "#@title **Installation of TALOS-N**\n",
        "!apt -qq install tcsh > /dev/null\n",
        "!wget -q https://poky.clas.ucdenver.edu/poky_releases/misc/talosn_install.zip\n",
        "!unzip -qq talosn_install.zip\n",
        "!chmod +x install.com\n",
        "!./install.com > /dev/null"
      ]
    },
    {
      "cell_type": "code",
      "execution_count": null,
      "metadata": {
        "id": "9qokznoR0kbz",
        "cellView": "form"
      },
      "outputs": [],
      "source": [
        "#@title **Preparing TALOS-N Inputs**\n",
        "\n",
        "line_queue = []\n",
        "line_queue.append('REMARK POKY generated TALOS input file\\n\\n')\n",
        "talos_atoms = ['HA', 'HA2', 'HA3', 'C', 'CA', 'CB', 'CG', 'N', 'H']\n",
        "\n",
        "# create DATA SEQUENCE\n",
        "# we only support 1 as the first sequence number here.\n",
        "iFirstIdx = 1\n",
        "line_queue.append('DATA FIRST_RESID %d\\n\\n' % (iFirstIdx))\n",
        "szSeq = 'DATA SEQUENCE '\n",
        "for i in range(len(sequence)):\n",
        "  szSeq  = szSeq + sequence[i]\n",
        "  if (i+1) % 10 == 0:\n",
        "    szSeq = szSeq + ' '\n",
        "  if (i+1) % 50 == 0 and i != len(sequence)-1:\n",
        "    szSeq = szSeq + '\\nDATA SEQUENCE '\n",
        "\n",
        "line_queue.append(szSeq)\n",
        "line_queue.append('\\n\\nVARS   RESID RESNAME ATOMNAME SHIFT\\n')\n",
        "line_queue.append('FORMAT %4d   %1s     %4s      %8.3f\\n\\n')\n",
        "\n",
        "# add chemical shifts\n",
        "szOutput = ''\n",
        "for i in range(len(sequence)):\n",
        "  seq = sequence[i]\n",
        "  for atom in talos_atoms:\n",
        "    try:\n",
        "      gas = '%s%d%s' % (seq, i+1, atom)\n",
        "      cs = groupatomshift_dict[gas]\n",
        "      if atom == 'HN' or atom == 'H':\n",
        "        line_queue.append('%4d %1s %4s %8.3f\\n' % (i+1, seq, 'HN', cs))\n",
        "      else:\n",
        "        line_queue.append('%4d %1s %4s %8.3f\\n' % (i+1, seq, atom, cs))\n",
        "    except:\n",
        "      pass\n",
        "content = ''.join(line_queue)\n",
        "\n",
        "import os\n",
        "job_dir = '/content/talos_run'\n",
        "talos_in = os.path.join(job_dir, 'talos_in.tab')\n",
        "if not os.path.exists(job_dir):\n",
        "  os.mkdir(job_dir)\n",
        "f = open(talos_in, 'w')\n",
        "f.write(content)\n",
        "f.close()\n"
      ]
    },
    {
      "cell_type": "code",
      "execution_count": null,
      "metadata": {
        "id": "j_IGApax0n19",
        "cellView": "form"
      },
      "outputs": [],
      "source": [
        "#@title **Running TALOS-N**\n",
        "!export TALOSN_DIR=\"/content\"\n",
        "!cp /content/tab/talos.obsCS.tab /content/tab/talos_obsCS.tab\n",
        "!tcsh -c 'cd /content/talos_run; /content/talosn -in talos_in.tab'"
      ]
    },
    {
      "cell_type": "code",
      "execution_count": null,
      "metadata": {
        "id": "mf1ath9n0qwd",
        "cellView": "form"
      },
      "outputs": [],
      "source": [
        "#@title **Analyzing/Visualizing TALOS-N SS/S2 Outputs**\n",
        "import matplotlib.pyplot as plt\n",
        "\n",
        "def talosn_analyze_plot(outname):\n",
        "  if outname.find('S2.tab') != -1:\n",
        "    mode = 'S2'\n",
        "  elif outname.find('SS.tab') != -1:\n",
        "    mode = 'SS'\n",
        "\n",
        "  x, y, y2 = [], [], []\n",
        "  f = open(outname, 'r')\n",
        "  lines = f.readlines()\n",
        "  f.close()\n",
        "\n",
        "  for i in range(len(lines)):\n",
        "    line = lines[i]\n",
        "    if line.find('VARS') == 0:\n",
        "      break\n",
        "\n",
        "  for j in range(i, len(lines)):\n",
        "    sp = lines[j].strip().split()\n",
        "    if len(sp) < 5:\n",
        "      continue\n",
        "    try:\n",
        "      x.append(int(sp[0]))\n",
        "      if mode == 'S2':\n",
        "        y.append(float(sp[-1]))\n",
        "      elif mode == 'SS':\n",
        "        y.append(float(sp[4]))\n",
        "        y2.append(-1. * float(sp[5]))\n",
        "    except:\n",
        "      pass\n",
        "\n",
        "  # plotting\n",
        "  xlabel = 'Residue Number'\n",
        "  if mode == 'S2':\n",
        "    title = 'Protein Flexibility by RCI-S2'\n",
        "    ylabel = 'RCI-S2 Order Parameter'\n",
        "  elif mode == 'SS':\n",
        "    title = 'Protein Secondary Structure Prediction by TALOS-N'\n",
        "    ylabel = 'Propensity'\n",
        "\n",
        "  fig = plt.figure(mode)\n",
        "  barlist = plt.bar(x, y)\n",
        "  plt.title(title)\n",
        "\n",
        "  for i in range(len(x)):\n",
        "    if mode == 'S2':\n",
        "      g = y[i]**2\n",
        "      r = 1.0 - y[i]**2\n",
        "      b = 0.0\n",
        "    elif mode == 'SS':\n",
        "      r = 1 - y[i]\n",
        "      g = 1.0\n",
        "      b = 1 - y[i]\n",
        "    barlist[i].set_color((r,g,b))\n",
        "  if mode == 'SS':\n",
        "    barlist = plt.bar(x, y2)\n",
        "    for i in range(len(x)):\n",
        "      r = 1 + y2[i]\n",
        "      b = 1.0\n",
        "      g = 1 + y2[i]\n",
        "      barlist[i].set_color((r,g,b))\n",
        "\n",
        "  if mode == 'S2':\n",
        "    plt.xlim(x[0], x[-1])\n",
        "    plt.ylim(0, 1.0)\n",
        "  elif mode == 'SS':\n",
        "    plt.xlim(x[0], x[-1])\n",
        "    plt.ylim(-1.0, 1.0)\n",
        "\n",
        "  plt.pause(0.1)\n",
        "  plt.show()\n",
        "  fig.savefig(outname + '.svg')\n",
        "\n",
        "# predSS.tab\n",
        "talosn_analyze_plot(os.path.join(job_dir, 'predSS.tab'))\n",
        "\n",
        "# predS2.tab\n",
        "talosn_analyze_plot(os.path.join(job_dir, 'predS2.tab'))\n",
        "\n",
        "# generate tbl/aco\n",
        "!/content/com/talos2dyana.com {job_dir}/pred.tab > {job_dir}/talos.aco\n",
        "!/content/com/talos2xplor.com {job_dir}/pred.tab > {job_dir}/talos.tbl"
      ]
    },
    {
      "cell_type": "code",
      "source": [
        "#@title ### **Download TALOS-N Results**\n",
        "from google.colab import files\n",
        "!cd {job_dir}; cd ..; zip -ru talos_run.zip talos_run\n",
        "compressed_file = '/content/talos_run.zip'\n",
        "files.download(compressed_file)"
      ],
      "metadata": {
        "colab": {
          "base_uri": "https://localhost:8080/",
          "height": 17
        },
        "cellView": "form",
        "id": "WcysNERJ3qUk",
        "outputId": "427240bf-07ca-4dc0-b17a-c116be995daa"
      },
      "execution_count": null,
      "outputs": [
        {
          "output_type": "display_data",
          "data": {
            "text/plain": [
              "<IPython.core.display.Javascript object>"
            ],
            "application/javascript": [
              "\n",
              "    async function download(id, filename, size) {\n",
              "      if (!google.colab.kernel.accessAllowed) {\n",
              "        return;\n",
              "      }\n",
              "      const div = document.createElement('div');\n",
              "      const label = document.createElement('label');\n",
              "      label.textContent = `Downloading \"${filename}\": `;\n",
              "      div.appendChild(label);\n",
              "      const progress = document.createElement('progress');\n",
              "      progress.max = size;\n",
              "      div.appendChild(progress);\n",
              "      document.body.appendChild(div);\n",
              "\n",
              "      const buffers = [];\n",
              "      let downloaded = 0;\n",
              "\n",
              "      const channel = await google.colab.kernel.comms.open(id);\n",
              "      // Send a message to notify the kernel that we're ready.\n",
              "      channel.send({})\n",
              "\n",
              "      for await (const message of channel.messages) {\n",
              "        // Send a message to notify the kernel that we're ready.\n",
              "        channel.send({})\n",
              "        if (message.buffers) {\n",
              "          for (const buffer of message.buffers) {\n",
              "            buffers.push(buffer);\n",
              "            downloaded += buffer.byteLength;\n",
              "            progress.value = downloaded;\n",
              "          }\n",
              "        }\n",
              "      }\n",
              "      const blob = new Blob(buffers, {type: 'application/binary'});\n",
              "      const a = document.createElement('a');\n",
              "      a.href = window.URL.createObjectURL(blob);\n",
              "      a.download = filename;\n",
              "      div.appendChild(a);\n",
              "      a.click();\n",
              "      div.remove();\n",
              "    }\n",
              "  "
            ]
          },
          "metadata": {}
        },
        {
          "output_type": "display_data",
          "data": {
            "text/plain": [
              "<IPython.core.display.Javascript object>"
            ],
            "application/javascript": [
              "download(\"download_ffcedb77-a7a4-4f92-8a47-5a084bedc790\", \"talos_run.zip\", 187830)"
            ]
          },
          "metadata": {}
        }
      ]
    }
  ],
  "metadata": {
    "colab": {
      "provenance": []
    },
    "kernelspec": {
      "display_name": "Python 3",
      "name": "python3"
    },
    "language_info": {
      "name": "python"
    }
  },
  "nbformat": 4,
  "nbformat_minor": 0
}