{
  "cells": [
    {
      "cell_type": "markdown",
      "metadata": {
        "id": "QPKFfbfuaxqi"
      },
      "source": [
        "# Amino Acid Molecular Weight Calculator\n",
        "Reference:\n",
        "https://www.thermofisher.com/us/en/home/references/ambion-tech-support/rna-tools-and-calculators/proteins-and-amino-acids.html"
      ]
    },
    {
      "cell_type": "code",
      "execution_count": null,
      "metadata": {
        "cellView": "form",
        "id": "q-_ytzAjatUR"
      },
      "outputs": [],
      "source": [
        "#@title\n",
        "sequence = \"MQIFVKTLTG KTITLEVEPS DTIENVKAKI QDKEGIPPDQ QRLIFAGKQL EDGRTLSDYN IQKESTLHLV LRLRGG\" #@param {type:\"string\"}\n"
      ]
    },
    {
      "cell_type": "code",
      "execution_count": null,
      "metadata": {
        "cellView": "form",
        "id": "CWpEs2kObA6D"
      },
      "outputs": [],
      "source": [
        "#@title\n",
        "# Molecular Weight Dictionary\n",
        "AA_MW='''Alanine\tAla\tA\t89.1\n",
        "Arginine\tArg\tR\t174.2\n",
        "Asparagine\tAsn\tN\t132.1\n",
        "Aspartate\tAsp\tD\t133.1\n",
        "Cysteine\tCys\tC\t121.2\n",
        "Glutamate\tGlu\tE\t147.1\n",
        "Glutamine\tGln\tQ\t146.2\n",
        "Glycine\tGly\tG\t75.1\n",
        "Histidine\tHis\tH\t155.2\n",
        "Isoleucine\tIle\tI\t131.2\n",
        "Leucine\tLeu\tL\t131.2\n",
        "Lysine\tLys\tK\t146.2\n",
        "Methionine\tMet\tM\t149.2\n",
        "Phenylalanine\tPhe\tF\t165.2\n",
        "Proline\tPro\tP\t115.1\n",
        "Serine\tSer\tS\t105.1\n",
        "Threonine\tThr\tT\t119.1\n",
        "Tryptophan\tTrp\tW\t204.2\n",
        "Tyrosine\tTyr\tY\t181.2\n",
        "Valine\tVal\tV\t117.1'''\n",
        "AA_MW_lines = AA_MW.split('\\n')\n",
        "AA_MW_list = list(map(lambda x: (x.split()[2], float(x.split()[3])), \n",
        "                      AA_MW_lines))\n",
        "AA_MW_dict = dict(AA_MW_list)\n",
        "print(AA_MW_dict)"
      ]
    },
    {
      "cell_type": "code",
      "execution_count": null,
      "metadata": {
        "cellView": "form",
        "id": "sh1piIUpbvT9"
      },
      "outputs": [],
      "source": [
        "#@title\n",
        "# Calculation\n",
        "import re\n",
        "clean_sequence = ''.join(re.findall('[A-Z]+', sequence.upper()))\n",
        "\n",
        "exact_weight = 0\n",
        "\n",
        "for aa in clean_sequence:\n",
        "  exact_weight += AA_MW_dict[aa]\n",
        "print('Exact weight: ' + (str(exact_weight)) + ' Da')\n",
        "print('Exact weight: ' + (str(exact_weight/1000)) + ' kDa')\n",
        "\n",
        "approx_weight = len(clean_sequence) * 110\n",
        "  \n",
        "print('Approximate weight: ' + (str(approx_weight))+ ' Da')\n",
        "print('Approximate weight: ' + (str(approx_weight/1000))+ ' Da')"
      ]
    },
    {
      "cell_type": "markdown",
      "metadata": {},
      "source": [
        "Molarity Calculation (optional)"
      ]
    },
    {
      "cell_type": "code",
      "execution_count": null,
      "metadata": {},
      "outputs": [],
      "source": [
        "total_volume = 1\n",
        "my_weight = 1\n",
        "\n",
        "try:\n",
        "  moles = my_weight / exact_weight\n",
        "except:\n",
        "  moles = my_weight / approx_weight\n",
        "\n",
        "molarity = moles / total_volume\n",
        "\n",
        "print(f'C is {molarity} M.')\n",
        "print(f'C is {molarity*1000} mM.')"
      ]
    },
    {
      "cell_type": "markdown",
      "metadata": {},
      "source": [
        "Dilution Calculation (optional)"
      ]
    },
    {
      "cell_type": "code",
      "execution_count": null,
      "metadata": {},
      "outputs": [],
      "source": [
        "target_molarity = 1\n",
        "my_weight = 1\n",
        "\n",
        "try:\n",
        "  moles = my_weight / exact_weight\n",
        "except:\n",
        "  moles = my_weight / approx_weight\n",
        "\n",
        "total_volume = molarity / moles\n",
        "\n",
        "print(f'Dilute volume is {total_volume} L.')\n",
        "print(f'Dilute volume is {total_volume*1000} ml.')"
      ]
    }
  ],
  "metadata": {
    "colab": {
      "provenance": []
    },
    "kernelspec": {
      "display_name": "Python 3",
      "name": "python3"
    },
    "language_info": {
      "name": "python"
    }
  },
  "nbformat": 4,
  "nbformat_minor": 0
}
