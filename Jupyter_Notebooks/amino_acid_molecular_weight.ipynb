{
  "nbformat": 4,
  "nbformat_minor": 0,
  "metadata": {
    "colab": {
      "provenance": []
    },
    "kernelspec": {
      "name": "python3",
      "display_name": "Python 3"
    },
    "language_info": {
      "name": "python"
    }
  },
  "cells": [
    {
      "cell_type": "markdown",
      "source": [
        "# Amino Acid Molecular Weight Calculator\n",
        "Reference:\n",
        "https://www.thermofisher.com/us/en/home/references/ambion-tech-support/rna-tools-and-calculators/proteins-and-amino-acids.html"
      ],
      "metadata": {
        "id": "QPKFfbfuaxqi"
      }
    },
    {
      "cell_type": "code",
      "execution_count": null,
      "metadata": {
        "cellView": "form",
        "id": "q-_ytzAjatUR"
      },
      "outputs": [],
      "source": [
        "#@title\n",
        "sequence = \"MQIFVKTLTG KTITLEVEPS DTIENVKAKI QDKEGIPPDQ QRLIFAGKQL EDGRTLSDYN IQKESTLHLV LRLRGG\" #@param {type:\"string\"}\n"
      ]
    },
    {
      "cell_type": "code",
      "source": [
        "#@title\n",
        "# Molecular Weight Dictionary\n",
        "AA_MW='''Alanine\tAla\tA\t89.1\n",
        "Arginine\tArg\tR\t174.2\n",
        "Asparagine\tAsn\tN\t132.1\n",
        "Aspartate\tAsp\tD\t133.1\n",
        "Cysteine\tCys\tC\t121.2\n",
        "Glutamate\tGlu\tE\t147.1\n",
        "Glutamine\tGln\tQ\t146.2\n",
        "Glycine\tGly\tG\t75.1\n",
        "Histidine\tHis\tH\t155.2\n",
        "Isoleucine\tIle\tI\t131.2\n",
        "Leucine\tLeu\tL\t131.2\n",
        "Lysine\tLys\tK\t146.2\n",
        "Methionine\tMet\tM\t149.2\n",
        "Phenylalanine\tPhe\tF\t165.2\n",
        "Proline\tPro\tP\t115.1\n",
        "Serine\tSer\tS\t105.1\n",
        "Threonine\tThr\tT\t119.1\n",
        "Tryptophan\tTrp\tW\t204.2\n",
        "Tyrosine\tTyr\tY\t181.2\n",
        "Valine\tVal\tV\t117.1'''\n",
        "AA_MW_lines = AA_MW.split('\\n')\n",
        "AA_MW_list = list(map(lambda x: (x.split()[2], float(x.split()[3])), \n",
        "                      AA_MW_lines))\n",
        "AA_MW_dict = dict(AA_MW_list)\n",
        "print(AA_MW_dict)"
      ],
      "metadata": {
        "id": "CWpEs2kObA6D",
        "cellView": "form"
      },
      "execution_count": null,
      "outputs": []
    },
    {
      "cell_type": "code",
      "source": [
        "#@title\n",
        "# Calculation\n",
        "import re\n",
        "clean_sequence = ''.join(re.findall('[A-Z]+', sequence.upper()))\n",
        "\n",
        "exact_weight = 0\n",
        "\n",
        "for aa in clean_sequence:\n",
        "  exact_weight += AA_MW_dict[aa]\n",
        "print('Exact weight: ' + (str(exact_weight)) + ' Da')\n",
        "\n",
        "approx_weight = len(clean_sequence) * 110\n",
        "  \n",
        "print('Approximate weight: ' + (str(approx_weight))+ ' Da')"
      ],
      "metadata": {
        "id": "sh1piIUpbvT9",
        "cellView": "form"
      },
      "execution_count": null,
      "outputs": []
    }
  ]
}